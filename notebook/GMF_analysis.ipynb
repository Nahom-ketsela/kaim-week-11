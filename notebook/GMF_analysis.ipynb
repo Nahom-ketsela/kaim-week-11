{
 "cells": [
  {
   "cell_type": "code",
   "execution_count": 1,
   "id": "08ede08e-92f1-4c7c-b424-2cd2fd4d7d51",
   "metadata": {},
   "outputs": [],
   "source": [
    "# Import modules\n",
    "import sys\n",
    "import os\n",
    "import pandas as pd"
   ]
  },
  {
   "cell_type": "code",
   "execution_count": 2,
   "id": "69629284-e069-42a2-8df3-b1062da15a62",
   "metadata": {},
   "outputs": [],
   "source": [
    "# Append the project root path to sys.path\n",
    "sys.path.append(os.path.abspath(\"../scripts\"))"
   ]
  },
  {
   "cell_type": "code",
   "execution_count": 3,
   "id": "4f59b332-9b34-440c-a2b4-da7c2cc3a18c",
   "metadata": {},
   "outputs": [],
   "source": [
    "# Import Custom Module\n",
    "import GMF_preprocessing as gp"
   ]
  },
  {
   "cell_type": "code",
   "execution_count": 4,
   "id": "9fae4d0f-8f27-46c9-990c-a4291d7d633a",
   "metadata": {},
   "outputs": [
    {
     "name": "stdout",
     "output_type": "stream",
     "text": [
      "YF.download() has changed argument auto_adjust default to True\n"
     ]
    },
    {
     "name": "stderr",
     "output_type": "stream",
     "text": [
      "\n",
      "*********************100%***********************]  1 of 1 completed"
     ]
    }
   ],
   "source": [
    "#define the fetching data values\n",
    "# assets = [\"TSLA\", \"BND\", \"SPY\"]\n",
    "start_date = \"2015-01-01\"\n",
    "end_date = \"2025-01-31\"\n",
    "    \n",
    "# Fetch and preprocess data for TSLA\n",
    "df_TSLA = gp.fetch_data(\"TSLA\", start_date, end_date)\n",
    "\n",
    " \n",
    "   "
   ]
  },
  {
   "cell_type": "code",
   "execution_count": 5,
   "id": "bdb0d403-78e8-4659-9180-0108a35ab48f",
   "metadata": {},
   "outputs": [
    {
     "name": "stdout",
     "output_type": "stream",
     "text": [
      "Index(['Close TSLA', 'High TSLA', 'Low TSLA', 'Open TSLA', 'Volume TSLA'], dtype='object')\n"
     ]
    },
    {
     "data": {
      "text/html": [
       "<div>\n",
       "<style scoped>\n",
       "    .dataframe tbody tr th:only-of-type {\n",
       "        vertical-align: middle;\n",
       "    }\n",
       "\n",
       "    .dataframe tbody tr th {\n",
       "        vertical-align: top;\n",
       "    }\n",
       "\n",
       "    .dataframe thead th {\n",
       "        text-align: right;\n",
       "    }\n",
       "</style>\n",
       "<table border=\"1\" class=\"dataframe\">\n",
       "  <thead>\n",
       "    <tr style=\"text-align: right;\">\n",
       "      <th></th>\n",
       "      <th>Close TSLA</th>\n",
       "      <th>High TSLA</th>\n",
       "      <th>Low TSLA</th>\n",
       "      <th>Open TSLA</th>\n",
       "      <th>Volume TSLA</th>\n",
       "    </tr>\n",
       "    <tr>\n",
       "      <th>Date</th>\n",
       "      <th></th>\n",
       "      <th></th>\n",
       "      <th></th>\n",
       "      <th></th>\n",
       "      <th></th>\n",
       "    </tr>\n",
       "  </thead>\n",
       "  <tbody>\n",
       "    <tr>\n",
       "      <th>2015-01-02</th>\n",
       "      <td>14.620667</td>\n",
       "      <td>14.883333</td>\n",
       "      <td>14.217333</td>\n",
       "      <td>14.858000</td>\n",
       "      <td>71466000</td>\n",
       "    </tr>\n",
       "    <tr>\n",
       "      <th>2015-01-05</th>\n",
       "      <td>14.006000</td>\n",
       "      <td>14.433333</td>\n",
       "      <td>13.810667</td>\n",
       "      <td>14.303333</td>\n",
       "      <td>80527500</td>\n",
       "    </tr>\n",
       "    <tr>\n",
       "      <th>2015-01-06</th>\n",
       "      <td>14.085333</td>\n",
       "      <td>14.280000</td>\n",
       "      <td>13.614000</td>\n",
       "      <td>14.004000</td>\n",
       "      <td>93928500</td>\n",
       "    </tr>\n",
       "    <tr>\n",
       "      <th>2015-01-07</th>\n",
       "      <td>14.063333</td>\n",
       "      <td>14.318667</td>\n",
       "      <td>13.985333</td>\n",
       "      <td>14.223333</td>\n",
       "      <td>44526000</td>\n",
       "    </tr>\n",
       "    <tr>\n",
       "      <th>2015-01-08</th>\n",
       "      <td>14.041333</td>\n",
       "      <td>14.253333</td>\n",
       "      <td>14.000667</td>\n",
       "      <td>14.187333</td>\n",
       "      <td>51637500</td>\n",
       "    </tr>\n",
       "  </tbody>\n",
       "</table>\n",
       "</div>"
      ],
      "text/plain": [
       "            Close TSLA  High TSLA   Low TSLA  Open TSLA  Volume TSLA\n",
       "Date                                                                \n",
       "2015-01-02   14.620667  14.883333  14.217333  14.858000     71466000\n",
       "2015-01-05   14.006000  14.433333  13.810667  14.303333     80527500\n",
       "2015-01-06   14.085333  14.280000  13.614000  14.004000     93928500\n",
       "2015-01-07   14.063333  14.318667  13.985333  14.223333     44526000\n",
       "2015-01-08   14.041333  14.253333  14.000667  14.187333     51637500"
      ]
     },
     "execution_count": 5,
     "metadata": {},
     "output_type": "execute_result"
    }
   ],
   "source": [
    "#check the fetched data\n",
    "print(df_TSLA.columns)\n",
    "df_TSLA.head()"
   ]
  },
  {
   "cell_type": "code",
   "execution_count": 6,
   "id": "377ed694-3f33-4cfb-b9b8-dfa09e8b8815",
   "metadata": {},
   "outputs": [
    {
     "name": "stdout",
     "output_type": "stream",
     "text": [
      "Missing values per asset:\n",
      "Close TSLA     0\n",
      "High TSLA      0\n",
      "Low TSLA       0\n",
      "Open TSLA      0\n",
      "Volume TSLA    0\n",
      "dtype: int64\n"
     ]
    },
    {
     "data": {
      "text/plain": [
       "Close TSLA     0\n",
       "High TSLA      0\n",
       "Low TSLA       0\n",
       "Open TSLA      0\n",
       "Volume TSLA    0\n",
       "dtype: int64"
      ]
     },
     "execution_count": 6,
     "metadata": {},
     "output_type": "execute_result"
    }
   ],
   "source": [
    "gp.check_missing_values(df_TSLA)"
   ]
  },
  {
   "cell_type": "code",
   "execution_count": 7,
   "id": "9f6c8212-6c12-4af7-8813-a4c4708aa329",
   "metadata": {},
   "outputs": [
    {
     "name": "stderr",
     "output_type": "stream",
     "text": [
      "C:\\Users\\HP\\OneDrive\\Desktop\\ai2\\kaim-week-11\\scripts\\GMF_preprocessing.py:28: FutureWarning: DataFrame.fillna with 'method' is deprecated and will raise in a future version. Use obj.ffill() or obj.bfill() instead.\n",
      "  data.fillna(method='ffill', inplace=True)\n"
     ]
    },
    {
     "data": {
      "text/plain": [
       "(            Close TSLA   High TSLA    Low TSLA   Open TSLA  Volume TSLA\n",
       " Date                                                                   \n",
       " 2015-01-02   14.620667   14.883333   14.217333   14.858000     71466000\n",
       " 2015-01-05   14.006000   14.433333   13.810667   14.303333     80527500\n",
       " 2015-01-06   14.085333   14.280000   13.614000   14.004000     93928500\n",
       " 2015-01-07   14.063333   14.318667   13.985333   14.223333     44526000\n",
       " 2015-01-08   14.041333   14.253333   14.000667   14.187333     51637500\n",
       " ...                ...         ...         ...         ...          ...\n",
       " 2025-01-24  406.579987  418.880005  405.779999  414.450012     56427100\n",
       " 2025-01-27  397.149994  406.690002  389.000000  394.799988     58125500\n",
       " 2025-01-28  398.089996  400.589996  386.500000  396.910004     48910700\n",
       " 2025-01-29  389.100006  398.589996  384.480011  395.209991     68033600\n",
       " 2025-01-30  400.279999  412.500000  384.410004  410.779999     98092900\n",
       " \n",
       " [2535 rows x 5 columns],\n",
       "             Close TSLA  High TSLA  Low TSLA  Open TSLA  Volume TSLA\n",
       " Date                                                               \n",
       " 2015-01-02    0.010723   0.009519  0.010743   0.011513     0.067348\n",
       " 2015-01-05    0.009416   0.008578  0.009835   0.010324     0.077377\n",
       " 2015-01-06    0.009584   0.008257  0.009397   0.009682     0.092210\n",
       " 2015-01-07    0.009538   0.008338  0.010225   0.010153     0.037529\n",
       " 2015-01-08    0.009491   0.008201  0.010259   0.010075     0.045400\n",
       " ...                ...        ...       ...        ...          ...\n",
       " 2025-01-24    0.844179   0.854331  0.884559   0.868250     0.050702\n",
       " 2025-01-27    0.824127   0.828840  0.847112   0.826119     0.052582\n",
       " 2025-01-28    0.826126   0.816084  0.841533   0.830643     0.042382\n",
       " 2025-01-29    0.807009   0.811902  0.837025   0.826998     0.063548\n",
       " 2025-01-30    0.830782   0.840990  0.836869   0.860381     0.096820\n",
       " \n",
       " [2535 rows x 5 columns])"
      ]
     },
     "execution_count": 7,
     "metadata": {},
     "output_type": "execute_result"
    }
   ],
   "source": [
    "gp.preprocess_data(df_TSLA)"
   ]
  },
  {
   "cell_type": "code",
   "execution_count": null,
   "id": "e117b547-f6e6-4154-8d4e-48abad6cf3bb",
   "metadata": {},
   "outputs": [],
   "source": []
  }
 ],
 "metadata": {
  "kernelspec": {
   "display_name": "Python (kaim-week-11)",
   "language": "python",
   "name": "kaim-week-11"
  },
  "language_info": {
   "codemirror_mode": {
    "name": "ipython",
    "version": 3
   },
   "file_extension": ".py",
   "mimetype": "text/x-python",
   "name": "python",
   "nbconvert_exporter": "python",
   "pygments_lexer": "ipython3",
   "version": "3.12.4"
  }
 },
 "nbformat": 4,
 "nbformat_minor": 5
}
